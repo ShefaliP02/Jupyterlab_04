{
 "cells": [
  {
   "cell_type": "markdown",
   "id": "c6b4954b-c085-4542-a918-1c390c487088",
   "metadata": {},
   "source": [
    "# Data Science Tools and Ecosystem"
   ]
  },
  {
   "cell_type": "markdown",
   "id": "c5a7a83c-14b3-4828-bd52-ecf94224fde6",
   "metadata": {},
   "source": [
    " In this notebook, Data Science tools are summarized"
   ]
  },
  {
   "cell_type": "markdown",
   "id": "ac73a483-2291-4db1-b0ef-9b39ba324679",
   "metadata": {
    "tags": []
   },
   "source": [
    "**Objectives**\n",
    "\n",
    "* List popular languages used in Data Science\n",
    "* List common development tools used in Data Science\n",
    "* Share a few examples of arithmetic expressions"
   ]
  },
  {
   "cell_type": "code",
   "execution_count": null,
   "id": "5e1a67da-7333-4260-8e98-f549dab3febe",
   "metadata": {},
   "outputs": [],
   "source": [
    "Some of the popular languages that data scientists use are\n",
    "1. Python\n",
    "2. R\n",
    "3. SQL\n",
    "4. C\n",
    "5. C++"
   ]
  },
  {
   "cell_type": "markdown",
   "id": "8f0c2cc3-dae2-4513-8097-af4425e08286",
   "metadata": {},
   "source": [
    "Some of the commonly used libraries by data scientists include\n",
    "1. Seaborn\n",
    "2. NumPy\n",
    "3. Matplotlib\n",
    "4. SciPy"
   ]
  },
  {
   "cell_type": "markdown",
   "id": "071900a7-94b3-4a17-9588-871f8e4f5b9d",
   "metadata": {},
   "source": [
    "|Data Science Tools|\n",
    "   -----\n",
    "|Programming languages (Python, R)|\n",
    "|Machine Learning ( Tensor flow, Apache)|\n",
    "|Data visualization ( Tableau, Plotly)|"
   ]
  },
  {
   "cell_type": "markdown",
   "id": "b242b81a-2f54-4cec-8b35-9c85d19bc209",
   "metadata": {},
   "source": [
    "### Below are a few expressions of evaluating arithmetic expressions in Python"
   ]
  },
  {
   "cell_type": "markdown",
   "id": "74592dd9-cc5f-4e4b-a13c-1123db911c2b",
   "metadata": {},
   "source": [
    "This is a simple expression to multiply then add integers"
   ]
  },
  {
   "cell_type": "code",
   "execution_count": 5,
   "id": "9d89c6b3-8705-4b7c-955c-6c51bca69437",
   "metadata": {
    "tags": []
   },
   "outputs": [
    {
     "name": "stdout",
     "output_type": "stream",
     "text": [
      "17\n"
     ]
    }
   ],
   "source": [
    "x= 3*4+5\n",
    "\n",
    "print (x)"
   ]
  },
  {
   "cell_type": "markdown",
   "id": "0d045ea0-0e62-48a7-9319-f7850622e74c",
   "metadata": {},
   "source": [
    "This will convert 200 minutes to hours by dividing by 60"
   ]
  },
  {
   "cell_type": "code",
   "execution_count": 6,
   "id": "e75e2795-4603-4554-ac6b-6e075891ba66",
   "metadata": {
    "tags": []
   },
   "outputs": [
    {
     "name": "stdout",
     "output_type": "stream",
     "text": [
      "3.3333333333333335\n"
     ]
    }
   ],
   "source": [
    "y= 200/60\n",
    "\n",
    "print (y)"
   ]
  },
  {
   "cell_type": "markdown",
   "id": "039cd448-77a0-4382-8bc6-5d10de26d70b",
   "metadata": {
    "tags": []
   },
   "source": [
    "## Author\n",
    "\n",
    "Shefali Prabhakar"
   ]
  }
 ],
 "metadata": {
  "kernelspec": {
   "display_name": "Python",
   "language": "python",
   "name": "conda-env-python-py"
  },
  "language_info": {
   "codemirror_mode": {
    "name": "ipython",
    "version": 3
   },
   "file_extension": ".py",
   "mimetype": "text/x-python",
   "name": "python",
   "nbconvert_exporter": "python",
   "pygments_lexer": "ipython3",
   "version": "3.7.12"
  }
 },
 "nbformat": 4,
 "nbformat_minor": 5
}
